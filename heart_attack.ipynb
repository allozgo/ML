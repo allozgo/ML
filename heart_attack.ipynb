{
 "cells": [
  {
   "cell_type": "code",
   "execution_count": 2,
   "metadata": {},
   "outputs": [],
   "source": [
    "import numpy as np\n",
    "import pandas as pd\n",
    "import seaborn as sns\n",
    "import matplotlib.pyplot as plt\n",
    "from sklearn.model_selection import GridSearchCV, train_test_split\n",
    "from sklearn.linear_model import LogisticRegression\n",
    "from sklearn.metrics import confusion_matrix, accuracy_score, f1_score, recall_score\n",
    "from sklearn.preprocessing import StandardScaler\n",
    "from sklearn.ensemble import RandomForestClassifier, AdaBoostClassifier\n",
    "from sklearn.decomposition import PCA\n",
    "from imblearn.over_sampling import SMOTE\n",
    "from sklearn.tree import DecisionTreeClassifier\n",
    "import xgboost\n",
    "from sklearn.svm import SVC\n",
    "from sklearn.neighbors import KNeighborsClassifier\n",
    "from sklearn.pipeline import Pipeline\n",
    "import pickle"
   ]
  },
  {
   "cell_type": "code",
   "execution_count": 3,
   "metadata": {},
   "outputs": [
    {
     "data": {
      "text/html": [
       "<div>\n",
       "<style scoped>\n",
       "    .dataframe tbody tr th:only-of-type {\n",
       "        vertical-align: middle;\n",
       "    }\n",
       "\n",
       "    .dataframe tbody tr th {\n",
       "        vertical-align: top;\n",
       "    }\n",
       "\n",
       "    .dataframe thead th {\n",
       "        text-align: right;\n",
       "    }\n",
       "</style>\n",
       "<table border=\"1\" class=\"dataframe\">\n",
       "  <thead>\n",
       "    <tr style=\"text-align: right;\">\n",
       "      <th></th>\n",
       "      <th>Patient ID</th>\n",
       "      <th>Age</th>\n",
       "      <th>Sex</th>\n",
       "      <th>Cholesterol</th>\n",
       "      <th>Blood Pressure</th>\n",
       "      <th>Heart Rate</th>\n",
       "      <th>Diabetes</th>\n",
       "      <th>Family History</th>\n",
       "      <th>Smoking</th>\n",
       "      <th>Obesity</th>\n",
       "      <th>...</th>\n",
       "      <th>Sedentary Hours Per Day</th>\n",
       "      <th>Income</th>\n",
       "      <th>BMI</th>\n",
       "      <th>Triglycerides</th>\n",
       "      <th>Physical Activity Days Per Week</th>\n",
       "      <th>Sleep Hours Per Day</th>\n",
       "      <th>Country</th>\n",
       "      <th>Continent</th>\n",
       "      <th>Hemisphere</th>\n",
       "      <th>Heart Attack Risk</th>\n",
       "    </tr>\n",
       "  </thead>\n",
       "  <tbody>\n",
       "    <tr>\n",
       "      <th>0</th>\n",
       "      <td>BMW7812</td>\n",
       "      <td>67</td>\n",
       "      <td>Male</td>\n",
       "      <td>208</td>\n",
       "      <td>158/88</td>\n",
       "      <td>72</td>\n",
       "      <td>0</td>\n",
       "      <td>0</td>\n",
       "      <td>1</td>\n",
       "      <td>0</td>\n",
       "      <td>...</td>\n",
       "      <td>6.615001</td>\n",
       "      <td>261404</td>\n",
       "      <td>31.251233</td>\n",
       "      <td>286</td>\n",
       "      <td>0</td>\n",
       "      <td>6</td>\n",
       "      <td>Argentina</td>\n",
       "      <td>South America</td>\n",
       "      <td>Southern Hemisphere</td>\n",
       "      <td>0</td>\n",
       "    </tr>\n",
       "    <tr>\n",
       "      <th>1</th>\n",
       "      <td>CZE1114</td>\n",
       "      <td>21</td>\n",
       "      <td>Male</td>\n",
       "      <td>389</td>\n",
       "      <td>165/93</td>\n",
       "      <td>98</td>\n",
       "      <td>1</td>\n",
       "      <td>1</td>\n",
       "      <td>1</td>\n",
       "      <td>1</td>\n",
       "      <td>...</td>\n",
       "      <td>4.963459</td>\n",
       "      <td>285768</td>\n",
       "      <td>27.194973</td>\n",
       "      <td>235</td>\n",
       "      <td>1</td>\n",
       "      <td>7</td>\n",
       "      <td>Canada</td>\n",
       "      <td>North America</td>\n",
       "      <td>Northern Hemisphere</td>\n",
       "      <td>0</td>\n",
       "    </tr>\n",
       "    <tr>\n",
       "      <th>2</th>\n",
       "      <td>BNI9906</td>\n",
       "      <td>21</td>\n",
       "      <td>Female</td>\n",
       "      <td>324</td>\n",
       "      <td>174/99</td>\n",
       "      <td>72</td>\n",
       "      <td>1</td>\n",
       "      <td>0</td>\n",
       "      <td>0</td>\n",
       "      <td>0</td>\n",
       "      <td>...</td>\n",
       "      <td>9.463426</td>\n",
       "      <td>235282</td>\n",
       "      <td>28.176571</td>\n",
       "      <td>587</td>\n",
       "      <td>4</td>\n",
       "      <td>4</td>\n",
       "      <td>France</td>\n",
       "      <td>Europe</td>\n",
       "      <td>Northern Hemisphere</td>\n",
       "      <td>0</td>\n",
       "    </tr>\n",
       "    <tr>\n",
       "      <th>3</th>\n",
       "      <td>JLN3497</td>\n",
       "      <td>84</td>\n",
       "      <td>Male</td>\n",
       "      <td>383</td>\n",
       "      <td>163/100</td>\n",
       "      <td>73</td>\n",
       "      <td>1</td>\n",
       "      <td>1</td>\n",
       "      <td>1</td>\n",
       "      <td>0</td>\n",
       "      <td>...</td>\n",
       "      <td>7.648981</td>\n",
       "      <td>125640</td>\n",
       "      <td>36.464704</td>\n",
       "      <td>378</td>\n",
       "      <td>3</td>\n",
       "      <td>4</td>\n",
       "      <td>Canada</td>\n",
       "      <td>North America</td>\n",
       "      <td>Northern Hemisphere</td>\n",
       "      <td>0</td>\n",
       "    </tr>\n",
       "    <tr>\n",
       "      <th>4</th>\n",
       "      <td>GFO8847</td>\n",
       "      <td>66</td>\n",
       "      <td>Male</td>\n",
       "      <td>318</td>\n",
       "      <td>91/88</td>\n",
       "      <td>93</td>\n",
       "      <td>1</td>\n",
       "      <td>1</td>\n",
       "      <td>1</td>\n",
       "      <td>1</td>\n",
       "      <td>...</td>\n",
       "      <td>1.514821</td>\n",
       "      <td>160555</td>\n",
       "      <td>21.809144</td>\n",
       "      <td>231</td>\n",
       "      <td>1</td>\n",
       "      <td>5</td>\n",
       "      <td>Thailand</td>\n",
       "      <td>Asia</td>\n",
       "      <td>Northern Hemisphere</td>\n",
       "      <td>0</td>\n",
       "    </tr>\n",
       "  </tbody>\n",
       "</table>\n",
       "<p>5 rows × 26 columns</p>\n",
       "</div>"
      ],
      "text/plain": [
       "  Patient ID  Age     Sex  Cholesterol Blood Pressure  Heart Rate  Diabetes  \\\n",
       "0    BMW7812   67    Male          208         158/88          72         0   \n",
       "1    CZE1114   21    Male          389         165/93          98         1   \n",
       "2    BNI9906   21  Female          324         174/99          72         1   \n",
       "3    JLN3497   84    Male          383        163/100          73         1   \n",
       "4    GFO8847   66    Male          318          91/88          93         1   \n",
       "\n",
       "   Family History  Smoking  Obesity  ...  Sedentary Hours Per Day  Income  \\\n",
       "0               0        1        0  ...                 6.615001  261404   \n",
       "1               1        1        1  ...                 4.963459  285768   \n",
       "2               0        0        0  ...                 9.463426  235282   \n",
       "3               1        1        0  ...                 7.648981  125640   \n",
       "4               1        1        1  ...                 1.514821  160555   \n",
       "\n",
       "         BMI  Triglycerides  Physical Activity Days Per Week  \\\n",
       "0  31.251233            286                                0   \n",
       "1  27.194973            235                                1   \n",
       "2  28.176571            587                                4   \n",
       "3  36.464704            378                                3   \n",
       "4  21.809144            231                                1   \n",
       "\n",
       "   Sleep Hours Per Day    Country      Continent           Hemisphere  \\\n",
       "0                    6  Argentina  South America  Southern Hemisphere   \n",
       "1                    7     Canada  North America  Northern Hemisphere   \n",
       "2                    4     France         Europe  Northern Hemisphere   \n",
       "3                    4     Canada  North America  Northern Hemisphere   \n",
       "4                    5   Thailand           Asia  Northern Hemisphere   \n",
       "\n",
       "   Heart Attack Risk  \n",
       "0                  0  \n",
       "1                  0  \n",
       "2                  0  \n",
       "3                  0  \n",
       "4                  0  \n",
       "\n",
       "[5 rows x 26 columns]"
      ]
     },
     "execution_count": 3,
     "metadata": {},
     "output_type": "execute_result"
    }
   ],
   "source": [
    "df = pd.read_csv(\"data/heart_attack_prediction_dataset.csv\")\n",
    "df.head()"
   ]
  },
  {
   "cell_type": "code",
   "execution_count": 4,
   "metadata": {},
   "outputs": [
    {
     "name": "stdout",
     "output_type": "stream",
     "text": [
      "<class 'pandas.core.frame.DataFrame'>\n",
      "RangeIndex: 8763 entries, 0 to 8762\n",
      "Data columns (total 26 columns):\n",
      " #   Column                           Non-Null Count  Dtype  \n",
      "---  ------                           --------------  -----  \n",
      " 0   Patient ID                       8763 non-null   object \n",
      " 1   Age                              8763 non-null   int64  \n",
      " 2   Sex                              8763 non-null   object \n",
      " 3   Cholesterol                      8763 non-null   int64  \n",
      " 4   Blood Pressure                   8763 non-null   object \n",
      " 5   Heart Rate                       8763 non-null   int64  \n",
      " 6   Diabetes                         8763 non-null   int64  \n",
      " 7   Family History                   8763 non-null   int64  \n",
      " 8   Smoking                          8763 non-null   int64  \n",
      " 9   Obesity                          8763 non-null   int64  \n",
      " 10  Alcohol Consumption              8763 non-null   int64  \n",
      " 11  Exercise Hours Per Week          8763 non-null   float64\n",
      " 12  Diet                             8763 non-null   object \n",
      " 13  Previous Heart Problems          8763 non-null   int64  \n",
      " 14  Medication Use                   8763 non-null   int64  \n",
      " 15  Stress Level                     8763 non-null   int64  \n",
      " 16  Sedentary Hours Per Day          8763 non-null   float64\n",
      " 17  Income                           8763 non-null   int64  \n",
      " 18  BMI                              8763 non-null   float64\n",
      " 19  Triglycerides                    8763 non-null   int64  \n",
      " 20  Physical Activity Days Per Week  8763 non-null   int64  \n",
      " 21  Sleep Hours Per Day              8763 non-null   int64  \n",
      " 22  Country                          8763 non-null   object \n",
      " 23  Continent                        8763 non-null   object \n",
      " 24  Hemisphere                       8763 non-null   object \n",
      " 25  Heart Attack Risk                8763 non-null   int64  \n",
      "dtypes: float64(3), int64(16), object(7)\n",
      "memory usage: 1.7+ MB\n"
     ]
    }
   ],
   "source": [
    "df.info()"
   ]
  },
  {
   "cell_type": "code",
   "execution_count": 5,
   "metadata": {},
   "outputs": [
    {
     "data": {
      "text/html": [
       "<div>\n",
       "<style scoped>\n",
       "    .dataframe tbody tr th:only-of-type {\n",
       "        vertical-align: middle;\n",
       "    }\n",
       "\n",
       "    .dataframe tbody tr th {\n",
       "        vertical-align: top;\n",
       "    }\n",
       "\n",
       "    .dataframe thead th {\n",
       "        text-align: right;\n",
       "    }\n",
       "</style>\n",
       "<table border=\"1\" class=\"dataframe\">\n",
       "  <thead>\n",
       "    <tr style=\"text-align: right;\">\n",
       "      <th></th>\n",
       "      <th>count</th>\n",
       "      <th>mean</th>\n",
       "      <th>std</th>\n",
       "      <th>min</th>\n",
       "      <th>25%</th>\n",
       "      <th>50%</th>\n",
       "      <th>75%</th>\n",
       "      <th>max</th>\n",
       "    </tr>\n",
       "  </thead>\n",
       "  <tbody>\n",
       "    <tr>\n",
       "      <th>Age</th>\n",
       "      <td>8763.0</td>\n",
       "      <td>53.707977</td>\n",
       "      <td>21.249509</td>\n",
       "      <td>18.000000</td>\n",
       "      <td>35.000000</td>\n",
       "      <td>54.000000</td>\n",
       "      <td>72.000000</td>\n",
       "      <td>90.000000</td>\n",
       "    </tr>\n",
       "    <tr>\n",
       "      <th>Cholesterol</th>\n",
       "      <td>8763.0</td>\n",
       "      <td>259.877211</td>\n",
       "      <td>80.863276</td>\n",
       "      <td>120.000000</td>\n",
       "      <td>192.000000</td>\n",
       "      <td>259.000000</td>\n",
       "      <td>330.000000</td>\n",
       "      <td>400.000000</td>\n",
       "    </tr>\n",
       "    <tr>\n",
       "      <th>Heart Rate</th>\n",
       "      <td>8763.0</td>\n",
       "      <td>75.021682</td>\n",
       "      <td>20.550948</td>\n",
       "      <td>40.000000</td>\n",
       "      <td>57.000000</td>\n",
       "      <td>75.000000</td>\n",
       "      <td>93.000000</td>\n",
       "      <td>110.000000</td>\n",
       "    </tr>\n",
       "    <tr>\n",
       "      <th>Diabetes</th>\n",
       "      <td>8763.0</td>\n",
       "      <td>0.652288</td>\n",
       "      <td>0.476271</td>\n",
       "      <td>0.000000</td>\n",
       "      <td>0.000000</td>\n",
       "      <td>1.000000</td>\n",
       "      <td>1.000000</td>\n",
       "      <td>1.000000</td>\n",
       "    </tr>\n",
       "    <tr>\n",
       "      <th>Family History</th>\n",
       "      <td>8763.0</td>\n",
       "      <td>0.492982</td>\n",
       "      <td>0.499979</td>\n",
       "      <td>0.000000</td>\n",
       "      <td>0.000000</td>\n",
       "      <td>0.000000</td>\n",
       "      <td>1.000000</td>\n",
       "      <td>1.000000</td>\n",
       "    </tr>\n",
       "    <tr>\n",
       "      <th>Smoking</th>\n",
       "      <td>8763.0</td>\n",
       "      <td>0.896839</td>\n",
       "      <td>0.304186</td>\n",
       "      <td>0.000000</td>\n",
       "      <td>1.000000</td>\n",
       "      <td>1.000000</td>\n",
       "      <td>1.000000</td>\n",
       "      <td>1.000000</td>\n",
       "    </tr>\n",
       "    <tr>\n",
       "      <th>Obesity</th>\n",
       "      <td>8763.0</td>\n",
       "      <td>0.501426</td>\n",
       "      <td>0.500026</td>\n",
       "      <td>0.000000</td>\n",
       "      <td>0.000000</td>\n",
       "      <td>1.000000</td>\n",
       "      <td>1.000000</td>\n",
       "      <td>1.000000</td>\n",
       "    </tr>\n",
       "    <tr>\n",
       "      <th>Alcohol Consumption</th>\n",
       "      <td>8763.0</td>\n",
       "      <td>0.598083</td>\n",
       "      <td>0.490313</td>\n",
       "      <td>0.000000</td>\n",
       "      <td>0.000000</td>\n",
       "      <td>1.000000</td>\n",
       "      <td>1.000000</td>\n",
       "      <td>1.000000</td>\n",
       "    </tr>\n",
       "    <tr>\n",
       "      <th>Exercise Hours Per Week</th>\n",
       "      <td>8763.0</td>\n",
       "      <td>10.014284</td>\n",
       "      <td>5.783745</td>\n",
       "      <td>0.002442</td>\n",
       "      <td>4.981579</td>\n",
       "      <td>10.069559</td>\n",
       "      <td>15.050018</td>\n",
       "      <td>19.998709</td>\n",
       "    </tr>\n",
       "    <tr>\n",
       "      <th>Previous Heart Problems</th>\n",
       "      <td>8763.0</td>\n",
       "      <td>0.495835</td>\n",
       "      <td>0.500011</td>\n",
       "      <td>0.000000</td>\n",
       "      <td>0.000000</td>\n",
       "      <td>0.000000</td>\n",
       "      <td>1.000000</td>\n",
       "      <td>1.000000</td>\n",
       "    </tr>\n",
       "    <tr>\n",
       "      <th>Medication Use</th>\n",
       "      <td>8763.0</td>\n",
       "      <td>0.498345</td>\n",
       "      <td>0.500026</td>\n",
       "      <td>0.000000</td>\n",
       "      <td>0.000000</td>\n",
       "      <td>0.000000</td>\n",
       "      <td>1.000000</td>\n",
       "      <td>1.000000</td>\n",
       "    </tr>\n",
       "    <tr>\n",
       "      <th>Stress Level</th>\n",
       "      <td>8763.0</td>\n",
       "      <td>5.469702</td>\n",
       "      <td>2.859622</td>\n",
       "      <td>1.000000</td>\n",
       "      <td>3.000000</td>\n",
       "      <td>5.000000</td>\n",
       "      <td>8.000000</td>\n",
       "      <td>10.000000</td>\n",
       "    </tr>\n",
       "    <tr>\n",
       "      <th>Sedentary Hours Per Day</th>\n",
       "      <td>8763.0</td>\n",
       "      <td>5.993690</td>\n",
       "      <td>3.466359</td>\n",
       "      <td>0.001263</td>\n",
       "      <td>2.998794</td>\n",
       "      <td>5.933622</td>\n",
       "      <td>9.019124</td>\n",
       "      <td>11.999313</td>\n",
       "    </tr>\n",
       "    <tr>\n",
       "      <th>Income</th>\n",
       "      <td>8763.0</td>\n",
       "      <td>158263.181901</td>\n",
       "      <td>80575.190806</td>\n",
       "      <td>20062.000000</td>\n",
       "      <td>88310.000000</td>\n",
       "      <td>157866.000000</td>\n",
       "      <td>227749.000000</td>\n",
       "      <td>299954.000000</td>\n",
       "    </tr>\n",
       "    <tr>\n",
       "      <th>BMI</th>\n",
       "      <td>8763.0</td>\n",
       "      <td>28.891446</td>\n",
       "      <td>6.319181</td>\n",
       "      <td>18.002337</td>\n",
       "      <td>23.422985</td>\n",
       "      <td>28.768999</td>\n",
       "      <td>34.324594</td>\n",
       "      <td>39.997211</td>\n",
       "    </tr>\n",
       "    <tr>\n",
       "      <th>Triglycerides</th>\n",
       "      <td>8763.0</td>\n",
       "      <td>417.677051</td>\n",
       "      <td>223.748137</td>\n",
       "      <td>30.000000</td>\n",
       "      <td>225.500000</td>\n",
       "      <td>417.000000</td>\n",
       "      <td>612.000000</td>\n",
       "      <td>800.000000</td>\n",
       "    </tr>\n",
       "    <tr>\n",
       "      <th>Physical Activity Days Per Week</th>\n",
       "      <td>8763.0</td>\n",
       "      <td>3.489672</td>\n",
       "      <td>2.282687</td>\n",
       "      <td>0.000000</td>\n",
       "      <td>2.000000</td>\n",
       "      <td>3.000000</td>\n",
       "      <td>5.000000</td>\n",
       "      <td>7.000000</td>\n",
       "    </tr>\n",
       "    <tr>\n",
       "      <th>Sleep Hours Per Day</th>\n",
       "      <td>8763.0</td>\n",
       "      <td>7.023508</td>\n",
       "      <td>1.988473</td>\n",
       "      <td>4.000000</td>\n",
       "      <td>5.000000</td>\n",
       "      <td>7.000000</td>\n",
       "      <td>9.000000</td>\n",
       "      <td>10.000000</td>\n",
       "    </tr>\n",
       "    <tr>\n",
       "      <th>Heart Attack Risk</th>\n",
       "      <td>8763.0</td>\n",
       "      <td>0.358211</td>\n",
       "      <td>0.479502</td>\n",
       "      <td>0.000000</td>\n",
       "      <td>0.000000</td>\n",
       "      <td>0.000000</td>\n",
       "      <td>1.000000</td>\n",
       "      <td>1.000000</td>\n",
       "    </tr>\n",
       "  </tbody>\n",
       "</table>\n",
       "</div>"
      ],
      "text/plain": [
       "                                  count           mean           std  \\\n",
       "Age                              8763.0      53.707977     21.249509   \n",
       "Cholesterol                      8763.0     259.877211     80.863276   \n",
       "Heart Rate                       8763.0      75.021682     20.550948   \n",
       "Diabetes                         8763.0       0.652288      0.476271   \n",
       "Family History                   8763.0       0.492982      0.499979   \n",
       "Smoking                          8763.0       0.896839      0.304186   \n",
       "Obesity                          8763.0       0.501426      0.500026   \n",
       "Alcohol Consumption              8763.0       0.598083      0.490313   \n",
       "Exercise Hours Per Week          8763.0      10.014284      5.783745   \n",
       "Previous Heart Problems          8763.0       0.495835      0.500011   \n",
       "Medication Use                   8763.0       0.498345      0.500026   \n",
       "Stress Level                     8763.0       5.469702      2.859622   \n",
       "Sedentary Hours Per Day          8763.0       5.993690      3.466359   \n",
       "Income                           8763.0  158263.181901  80575.190806   \n",
       "BMI                              8763.0      28.891446      6.319181   \n",
       "Triglycerides                    8763.0     417.677051    223.748137   \n",
       "Physical Activity Days Per Week  8763.0       3.489672      2.282687   \n",
       "Sleep Hours Per Day              8763.0       7.023508      1.988473   \n",
       "Heart Attack Risk                8763.0       0.358211      0.479502   \n",
       "\n",
       "                                          min           25%            50%  \\\n",
       "Age                                 18.000000     35.000000      54.000000   \n",
       "Cholesterol                        120.000000    192.000000     259.000000   \n",
       "Heart Rate                          40.000000     57.000000      75.000000   \n",
       "Diabetes                             0.000000      0.000000       1.000000   \n",
       "Family History                       0.000000      0.000000       0.000000   \n",
       "Smoking                              0.000000      1.000000       1.000000   \n",
       "Obesity                              0.000000      0.000000       1.000000   \n",
       "Alcohol Consumption                  0.000000      0.000000       1.000000   \n",
       "Exercise Hours Per Week              0.002442      4.981579      10.069559   \n",
       "Previous Heart Problems              0.000000      0.000000       0.000000   \n",
       "Medication Use                       0.000000      0.000000       0.000000   \n",
       "Stress Level                         1.000000      3.000000       5.000000   \n",
       "Sedentary Hours Per Day              0.001263      2.998794       5.933622   \n",
       "Income                           20062.000000  88310.000000  157866.000000   \n",
       "BMI                                 18.002337     23.422985      28.768999   \n",
       "Triglycerides                       30.000000    225.500000     417.000000   \n",
       "Physical Activity Days Per Week      0.000000      2.000000       3.000000   \n",
       "Sleep Hours Per Day                  4.000000      5.000000       7.000000   \n",
       "Heart Attack Risk                    0.000000      0.000000       0.000000   \n",
       "\n",
       "                                           75%            max  \n",
       "Age                                  72.000000      90.000000  \n",
       "Cholesterol                         330.000000     400.000000  \n",
       "Heart Rate                           93.000000     110.000000  \n",
       "Diabetes                              1.000000       1.000000  \n",
       "Family History                        1.000000       1.000000  \n",
       "Smoking                               1.000000       1.000000  \n",
       "Obesity                               1.000000       1.000000  \n",
       "Alcohol Consumption                   1.000000       1.000000  \n",
       "Exercise Hours Per Week              15.050018      19.998709  \n",
       "Previous Heart Problems               1.000000       1.000000  \n",
       "Medication Use                        1.000000       1.000000  \n",
       "Stress Level                          8.000000      10.000000  \n",
       "Sedentary Hours Per Day               9.019124      11.999313  \n",
       "Income                           227749.000000  299954.000000  \n",
       "BMI                                  34.324594      39.997211  \n",
       "Triglycerides                       612.000000     800.000000  \n",
       "Physical Activity Days Per Week       5.000000       7.000000  \n",
       "Sleep Hours Per Day                   9.000000      10.000000  \n",
       "Heart Attack Risk                     1.000000       1.000000  "
      ]
     },
     "execution_count": 5,
     "metadata": {},
     "output_type": "execute_result"
    }
   ],
   "source": [
    "df.describe().T"
   ]
  },
  {
   "cell_type": "code",
   "execution_count": 6,
   "metadata": {},
   "outputs": [
    {
     "data": {
      "text/plain": [
       "0        [158, 88]\n",
       "1        [165, 93]\n",
       "2        [174, 99]\n",
       "3       [163, 100]\n",
       "4         [91, 88]\n",
       "           ...    \n",
       "8758      [94, 76]\n",
       "8759    [157, 102]\n",
       "8760     [161, 75]\n",
       "8761     [119, 67]\n",
       "8762     [138, 67]\n",
       "Name: Blood Pressure, Length: 8763, dtype: object"
      ]
     },
     "execution_count": 6,
     "metadata": {},
     "output_type": "execute_result"
    }
   ],
   "source": [
    "df[\"Blood Pressure\"].str.split('/')"
   ]
  },
  {
   "cell_type": "code",
   "execution_count": 7,
   "metadata": {},
   "outputs": [],
   "source": [
    "df[\"Blood Pressure\"] = df[\"Blood Pressure\"].str.split('/')"
   ]
  },
  {
   "cell_type": "code",
   "execution_count": 8,
   "metadata": {},
   "outputs": [],
   "source": [
    "df[\"diastolic\"] = df[\"Blood Pressure\"].apply(lambda x : x[1])"
   ]
  },
  {
   "cell_type": "code",
   "execution_count": 9,
   "metadata": {},
   "outputs": [],
   "source": [
    "df[\"systolic\"] = df[\"Blood Pressure\"].apply(lambda x : x[0])"
   ]
  },
  {
   "cell_type": "code",
   "execution_count": 10,
   "metadata": {},
   "outputs": [],
   "source": [
    "df = df.drop([\"Blood Pressure\", \"Patient ID\", \"Hemisphere\", \"Alcohol Consumption\", \"Income\", \"Continent\", \"Country\", \"Physical Activity Days Per Week\", \"Previous Heart Problems\", \"Family History\", \"Diet\", \"Age\", \"Heart Rate\", \"Smoking\", \"Sex\", \"Medication Use\", \"Sedentary Hours Per Day\", \"diastolic\"] , axis = 1)"
   ]
  },
  {
   "cell_type": "code",
   "execution_count": 12,
   "metadata": {},
   "outputs": [],
   "source": [
    "#df[\"Sex\"] = df[\"Sex\"].apply(lambda x: 0 if x == \"Male\" else 1)"
   ]
  },
  {
   "cell_type": "code",
   "execution_count": 34,
   "metadata": {},
   "outputs": [
    {
     "data": {
      "text/plain": [
       "Diet\n",
       "Healthy      2960\n",
       "Average      2912\n",
       "Unhealthy    2891\n",
       "Name: count, dtype: int64"
      ]
     },
     "execution_count": 34,
     "metadata": {},
     "output_type": "execute_result"
    }
   ],
   "source": [
    "#df[\"Diet\"].value_counts()"
   ]
  },
  {
   "cell_type": "code",
   "execution_count": 35,
   "metadata": {},
   "outputs": [],
   "source": [
    "#df[\"Diet\"] = df[\"Diet\"].map({\"Healthy\": 0, \"Average\": 1, \"Unhealthy\": 2})"
   ]
  },
  {
   "cell_type": "code",
   "execution_count": 11,
   "metadata": {},
   "outputs": [],
   "source": [
    "df.iloc[:,-6:] = df.iloc[:,-6:].astype(int)"
   ]
  },
  {
   "cell_type": "code",
   "execution_count": 12,
   "metadata": {},
   "outputs": [
    {
     "data": {
      "text/html": [
       "<div>\n",
       "<style scoped>\n",
       "    .dataframe tbody tr th:only-of-type {\n",
       "        vertical-align: middle;\n",
       "    }\n",
       "\n",
       "    .dataframe tbody tr th {\n",
       "        vertical-align: top;\n",
       "    }\n",
       "\n",
       "    .dataframe thead th {\n",
       "        text-align: right;\n",
       "    }\n",
       "</style>\n",
       "<table border=\"1\" class=\"dataframe\">\n",
       "  <thead>\n",
       "    <tr style=\"text-align: right;\">\n",
       "      <th></th>\n",
       "      <th>Cholesterol</th>\n",
       "      <th>Diabetes</th>\n",
       "      <th>Obesity</th>\n",
       "      <th>Exercise Hours Per Week</th>\n",
       "      <th>Stress Level</th>\n",
       "      <th>BMI</th>\n",
       "      <th>Triglycerides</th>\n",
       "      <th>Sleep Hours Per Day</th>\n",
       "      <th>Heart Attack Risk</th>\n",
       "      <th>systolic</th>\n",
       "    </tr>\n",
       "  </thead>\n",
       "  <tbody>\n",
       "    <tr>\n",
       "      <th>0</th>\n",
       "      <td>208</td>\n",
       "      <td>0</td>\n",
       "      <td>0</td>\n",
       "      <td>4.168189</td>\n",
       "      <td>9</td>\n",
       "      <td>31.0</td>\n",
       "      <td>286</td>\n",
       "      <td>6</td>\n",
       "      <td>0</td>\n",
       "      <td>158</td>\n",
       "    </tr>\n",
       "    <tr>\n",
       "      <th>1</th>\n",
       "      <td>389</td>\n",
       "      <td>1</td>\n",
       "      <td>1</td>\n",
       "      <td>1.813242</td>\n",
       "      <td>1</td>\n",
       "      <td>27.0</td>\n",
       "      <td>235</td>\n",
       "      <td>7</td>\n",
       "      <td>0</td>\n",
       "      <td>165</td>\n",
       "    </tr>\n",
       "    <tr>\n",
       "      <th>2</th>\n",
       "      <td>324</td>\n",
       "      <td>1</td>\n",
       "      <td>0</td>\n",
       "      <td>2.078353</td>\n",
       "      <td>9</td>\n",
       "      <td>28.0</td>\n",
       "      <td>587</td>\n",
       "      <td>4</td>\n",
       "      <td>0</td>\n",
       "      <td>174</td>\n",
       "    </tr>\n",
       "    <tr>\n",
       "      <th>3</th>\n",
       "      <td>383</td>\n",
       "      <td>1</td>\n",
       "      <td>0</td>\n",
       "      <td>9.828130</td>\n",
       "      <td>9</td>\n",
       "      <td>36.0</td>\n",
       "      <td>378</td>\n",
       "      <td>4</td>\n",
       "      <td>0</td>\n",
       "      <td>163</td>\n",
       "    </tr>\n",
       "    <tr>\n",
       "      <th>4</th>\n",
       "      <td>318</td>\n",
       "      <td>1</td>\n",
       "      <td>1</td>\n",
       "      <td>5.804299</td>\n",
       "      <td>6</td>\n",
       "      <td>21.0</td>\n",
       "      <td>231</td>\n",
       "      <td>5</td>\n",
       "      <td>0</td>\n",
       "      <td>91</td>\n",
       "    </tr>\n",
       "    <tr>\n",
       "      <th>...</th>\n",
       "      <td>...</td>\n",
       "      <td>...</td>\n",
       "      <td>...</td>\n",
       "      <td>...</td>\n",
       "      <td>...</td>\n",
       "      <td>...</td>\n",
       "      <td>...</td>\n",
       "      <td>...</td>\n",
       "      <td>...</td>\n",
       "      <td>...</td>\n",
       "    </tr>\n",
       "    <tr>\n",
       "      <th>8758</th>\n",
       "      <td>121</td>\n",
       "      <td>1</td>\n",
       "      <td>0</td>\n",
       "      <td>7.917342</td>\n",
       "      <td>8</td>\n",
       "      <td>19.0</td>\n",
       "      <td>67</td>\n",
       "      <td>7</td>\n",
       "      <td>0</td>\n",
       "      <td>94</td>\n",
       "    </tr>\n",
       "    <tr>\n",
       "      <th>8759</th>\n",
       "      <td>120</td>\n",
       "      <td>1</td>\n",
       "      <td>1</td>\n",
       "      <td>16.558426</td>\n",
       "      <td>8</td>\n",
       "      <td>23.0</td>\n",
       "      <td>617</td>\n",
       "      <td>9</td>\n",
       "      <td>0</td>\n",
       "      <td>157</td>\n",
       "    </tr>\n",
       "    <tr>\n",
       "      <th>8760</th>\n",
       "      <td>250</td>\n",
       "      <td>0</td>\n",
       "      <td>1</td>\n",
       "      <td>3.148438</td>\n",
       "      <td>5</td>\n",
       "      <td>35.0</td>\n",
       "      <td>527</td>\n",
       "      <td>4</td>\n",
       "      <td>1</td>\n",
       "      <td>161</td>\n",
       "    </tr>\n",
       "    <tr>\n",
       "      <th>8761</th>\n",
       "      <td>178</td>\n",
       "      <td>1</td>\n",
       "      <td>0</td>\n",
       "      <td>3.789950</td>\n",
       "      <td>5</td>\n",
       "      <td>27.0</td>\n",
       "      <td>114</td>\n",
       "      <td>8</td>\n",
       "      <td>0</td>\n",
       "      <td>119</td>\n",
       "    </tr>\n",
       "    <tr>\n",
       "      <th>8762</th>\n",
       "      <td>356</td>\n",
       "      <td>1</td>\n",
       "      <td>0</td>\n",
       "      <td>18.081748</td>\n",
       "      <td>8</td>\n",
       "      <td>32.0</td>\n",
       "      <td>180</td>\n",
       "      <td>4</td>\n",
       "      <td>1</td>\n",
       "      <td>138</td>\n",
       "    </tr>\n",
       "  </tbody>\n",
       "</table>\n",
       "<p>8763 rows × 10 columns</p>\n",
       "</div>"
      ],
      "text/plain": [
       "      Cholesterol  Diabetes  Obesity  Exercise Hours Per Week  Stress Level  \\\n",
       "0             208         0        0                 4.168189             9   \n",
       "1             389         1        1                 1.813242             1   \n",
       "2             324         1        0                 2.078353             9   \n",
       "3             383         1        0                 9.828130             9   \n",
       "4             318         1        1                 5.804299             6   \n",
       "...           ...       ...      ...                      ...           ...   \n",
       "8758          121         1        0                 7.917342             8   \n",
       "8759          120         1        1                16.558426             8   \n",
       "8760          250         0        1                 3.148438             5   \n",
       "8761          178         1        0                 3.789950             5   \n",
       "8762          356         1        0                18.081748             8   \n",
       "\n",
       "       BMI  Triglycerides  Sleep Hours Per Day  Heart Attack Risk systolic  \n",
       "0     31.0            286                    6                  0      158  \n",
       "1     27.0            235                    7                  0      165  \n",
       "2     28.0            587                    4                  0      174  \n",
       "3     36.0            378                    4                  0      163  \n",
       "4     21.0            231                    5                  0       91  \n",
       "...    ...            ...                  ...                ...      ...  \n",
       "8758  19.0             67                    7                  0       94  \n",
       "8759  23.0            617                    9                  0      157  \n",
       "8760  35.0            527                    4                  1      161  \n",
       "8761  27.0            114                    8                  0      119  \n",
       "8762  32.0            180                    4                  1      138  \n",
       "\n",
       "[8763 rows x 10 columns]"
      ]
     },
     "execution_count": 12,
     "metadata": {},
     "output_type": "execute_result"
    }
   ],
   "source": [
    "df"
   ]
  },
  {
   "cell_type": "code",
   "execution_count": 13,
   "metadata": {},
   "outputs": [
    {
     "name": "stdout",
     "output_type": "stream",
     "text": [
      "Cholesterol                  int64\n",
      "Diabetes                     int64\n",
      "Obesity                      int64\n",
      "Exercise Hours Per Week    float64\n",
      "Stress Level                 int64\n",
      "BMI                        float64\n",
      "Triglycerides                int64\n",
      "Sleep Hours Per Day          int64\n",
      "Heart Attack Risk            int64\n",
      "systolic                    object\n",
      "dtype: object\n"
     ]
    }
   ],
   "source": [
    "print(df.dtypes)"
   ]
  },
  {
   "cell_type": "code",
   "execution_count": 14,
   "metadata": {},
   "outputs": [],
   "source": [
    "#df[\"diastolic\"] = df[\"diastolic\"].astype(int)\n",
    "df[\"systolic\"] = df[\"systolic\"].astype(int)"
   ]
  },
  {
   "cell_type": "code",
   "execution_count": 15,
   "metadata": {},
   "outputs": [
    {
     "data": {
      "text/plain": [
       "Cholesterol                0\n",
       "Diabetes                   0\n",
       "Obesity                    0\n",
       "Exercise Hours Per Week    0\n",
       "Stress Level               0\n",
       "BMI                        0\n",
       "Triglycerides              0\n",
       "Sleep Hours Per Day        0\n",
       "Heart Attack Risk          0\n",
       "systolic                   0\n",
       "dtype: int64"
      ]
     },
     "execution_count": 15,
     "metadata": {},
     "output_type": "execute_result"
    }
   ],
   "source": [
    "df.isnull().sum()"
   ]
  },
  {
   "cell_type": "code",
   "execution_count": 16,
   "metadata": {},
   "outputs": [
    {
     "data": {
      "text/plain": [
       "10"
      ]
     },
     "execution_count": 16,
     "metadata": {},
     "output_type": "execute_result"
    }
   ],
   "source": [
    "len(df.columns)"
   ]
  },
  {
   "cell_type": "code",
   "execution_count": 17,
   "metadata": {},
   "outputs": [],
   "source": [
    "X = df.drop(\"Heart Attack Risk\", axis = 1)"
   ]
  },
  {
   "cell_type": "code",
   "execution_count": 18,
   "metadata": {},
   "outputs": [],
   "source": [
    "y = df[\"Heart Attack Risk\"]"
   ]
  },
  {
   "cell_type": "code",
   "execution_count": 19,
   "metadata": {},
   "outputs": [],
   "source": [
    "X_train, X_test, y_train, y_test = train_test_split(X, y, test_size=0.2, random_state=42)"
   ]
  },
  {
   "cell_type": "code",
   "execution_count": 20,
   "metadata": {},
   "outputs": [
    {
     "name": "stdout",
     "output_type": "stream",
     "text": [
      "X_train shape: (7010, 9)\n",
      "X_test shape: (1753, 9)\n",
      "y_train shape: (7010,)\n",
      "y_test shape: (1753,)\n"
     ]
    }
   ],
   "source": [
    "print(\"X_train shape:\", X_train.shape)\n",
    "print(\"X_test shape:\", X_test.shape)\n",
    "print(\"y_train shape:\", y_train.shape)\n",
    "print(\"y_test shape:\", y_test.shape)"
   ]
  },
  {
   "cell_type": "code",
   "execution_count": 21,
   "metadata": {},
   "outputs": [
    {
     "name": "stdout",
     "output_type": "stream",
     "text": [
      "(8763, 9)\n",
      "(7010, 5)\n",
      "[3.54101456 1.88894965 3.0944907  1.50730173 1.12959053 1.15018547\n",
      " 1.50826606 1.89792483 2.23885553]\n"
     ]
    },
    {
     "data": {
      "text/html": [
       "<div>\n",
       "<style scoped>\n",
       "    .dataframe tbody tr th:only-of-type {\n",
       "        vertical-align: middle;\n",
       "    }\n",
       "\n",
       "    .dataframe tbody tr th {\n",
       "        vertical-align: top;\n",
       "    }\n",
       "\n",
       "    .dataframe thead th {\n",
       "        text-align: right;\n",
       "    }\n",
       "</style>\n",
       "<table border=\"1\" class=\"dataframe\">\n",
       "  <thead>\n",
       "    <tr style=\"text-align: right;\">\n",
       "      <th></th>\n",
       "      <th>column</th>\n",
       "      <th>score</th>\n",
       "    </tr>\n",
       "  </thead>\n",
       "  <tbody>\n",
       "    <tr>\n",
       "      <th>0</th>\n",
       "      <td>Cholesterol</td>\n",
       "      <td>3.541015</td>\n",
       "    </tr>\n",
       "    <tr>\n",
       "      <th>2</th>\n",
       "      <td>Obesity</td>\n",
       "      <td>3.094491</td>\n",
       "    </tr>\n",
       "    <tr>\n",
       "      <th>8</th>\n",
       "      <td>systolic</td>\n",
       "      <td>2.238856</td>\n",
       "    </tr>\n",
       "    <tr>\n",
       "      <th>7</th>\n",
       "      <td>Sleep Hours Per Day</td>\n",
       "      <td>1.897925</td>\n",
       "    </tr>\n",
       "    <tr>\n",
       "      <th>1</th>\n",
       "      <td>Diabetes</td>\n",
       "      <td>1.888950</td>\n",
       "    </tr>\n",
       "    <tr>\n",
       "      <th>6</th>\n",
       "      <td>Triglycerides</td>\n",
       "      <td>1.508266</td>\n",
       "    </tr>\n",
       "    <tr>\n",
       "      <th>3</th>\n",
       "      <td>Exercise Hours Per Week</td>\n",
       "      <td>1.507302</td>\n",
       "    </tr>\n",
       "    <tr>\n",
       "      <th>5</th>\n",
       "      <td>BMI</td>\n",
       "      <td>1.150185</td>\n",
       "    </tr>\n",
       "    <tr>\n",
       "      <th>4</th>\n",
       "      <td>Stress Level</td>\n",
       "      <td>1.129591</td>\n",
       "    </tr>\n",
       "  </tbody>\n",
       "</table>\n",
       "</div>"
      ],
      "text/plain": [
       "                    column     score\n",
       "0              Cholesterol  3.541015\n",
       "2                  Obesity  3.094491\n",
       "8                 systolic  2.238856\n",
       "7      Sleep Hours Per Day  1.897925\n",
       "1                 Diabetes  1.888950\n",
       "6            Triglycerides  1.508266\n",
       "3  Exercise Hours Per Week  1.507302\n",
       "5                      BMI  1.150185\n",
       "4             Stress Level  1.129591"
      ]
     },
     "execution_count": 21,
     "metadata": {},
     "output_type": "execute_result"
    }
   ],
   "source": [
    "from sklearn.feature_selection import SelectKBest\n",
    "\n",
    "print(X.shape)\n",
    "sel = SelectKBest(k=5)\n",
    "X_new = sel.fit_transform(X_train, y_train)\n",
    "print(X_new.shape)\n",
    "print(sel.scores_)\n",
    "\n",
    "pd.DataFrame({'column': X_train.columns, 'score': sel.scores_}).sort_values('score', ascending=False)"
   ]
  },
  {
   "cell_type": "code",
   "execution_count": 22,
   "metadata": {},
   "outputs": [
    {
     "data": {
      "image/png": "[encoded data removed]",
      "text/plain": [
       "<Figure size 1000x1000 with 2 Axes>"
      ]
     },
     "metadata": {},
     "output_type": "display_data"
    }
   ],
   "source": [
    "plt.figure(figsize=(10,10))\n",
    "sns.heatmap(df.corr(),\n",
    "            vmin=-1,\n",
    "            vmax=1,\n",
    "            center=0,\n",
    "            cmap=sns.diverging_palette(145, 280, s=85, l=25, n=10),\n",
    "            square=True,\n",
    "            annot=True,\n",
    "            linewidths=.5);"
   ]
  },
  {
   "cell_type": "code",
   "execution_count": null,
   "metadata": {},
   "outputs": [],
   "source": [
    "# Voy a aplicar PCA para ver si puedo reducir el número de variables manteniendo la mayor parte de la información.\n",
    "# PCA requiere primero estandarizar los datos para asegurarme que ninguna característica se califica como más importante debido a diferencias de escala.\n"
   ]
  },
  {
   "cell_type": "code",
   "execution_count": 23,
   "metadata": {},
   "outputs": [],
   "source": [
    "scaler = StandardScaler()\n",
    "X_train_sc = scaler.fit(X_train)\n",
    "X_train_sc = scaler.transform(X_train)\n",
    "X_test_sc = scaler.transform(X_test)\n",
    "df_scaled = scaler.fit_transform(df)"
   ]
  },
  {
   "cell_type": "code",
   "execution_count": 24,
   "metadata": {},
   "outputs": [
    {
     "data": {
      "text/plain": [
       "(8763, 10)"
      ]
     },
     "execution_count": 24,
     "metadata": {},
     "output_type": "execute_result"
    }
   ],
   "source": [
    "pca = PCA()\n",
    "converted_data = pca.fit_transform(df_scaled)\n",
    "converted_data.shape"
   ]
  },
  {
   "cell_type": "code",
   "execution_count": 25,
   "metadata": {},
   "outputs": [
    {
     "data": {
      "text/plain": [
       "array([0.10634623, 0.10531272, 0.10197087, 0.10042111, 0.09981715,\n",
       "       0.09964073, 0.09830512, 0.09683983, 0.09613004, 0.0952162 ])"
      ]
     },
     "execution_count": 25,
     "metadata": {},
     "output_type": "execute_result"
    }
   ],
   "source": [
    "pca.explained_variance_ratio_"
   ]
  },
  {
   "cell_type": "code",
   "execution_count": 26,
   "metadata": {},
   "outputs": [
    {
     "data": {
      "text/plain": [
       "array([0.10634623, 0.21165895, 0.31362982, 0.41405093, 0.51386808,\n",
       "       0.61350881, 0.71181393, 0.80865376, 0.9047838 , 1.        ])"
      ]
     },
     "execution_count": 26,
     "metadata": {},
     "output_type": "execute_result"
    }
   ],
   "source": [
    "np.cumsum(pca.explained_variance_ratio_)"
   ]
  },
  {
   "cell_type": "code",
   "execution_count": 27,
   "metadata": {},
   "outputs": [
    {
     "data": {
      "text/plain": [
       "[<matplotlib.lines.Line2D at 0x21450868ac0>]"
      ]
     },
     "execution_count": 27,
     "metadata": {},
     "output_type": "execute_result"
    },
    {
     "data": {
      "image/png": "[encoded data removed]",
      "text/plain": [
       "<Figure size 640x480 with 1 Axes>"
      ]
     },
     "metadata": {},
     "output_type": "display_data"
    }
   ],
   "source": [
    "plt.plot(np.cumsum(pca.explained_variance_ratio_))"
   ]
  },
  {
   "cell_type": "code",
   "execution_count": null,
   "metadata": {},
   "outputs": [],
   "source": [
    "# Se puede observar que con 1 componente principal tenemos el 20% de la información y para explicar el 90% de la varianza, o lo que es lo mismo, \n",
    "# para tener el 90% de la información, es necesario hacer uso de todas los componentes principales(las 23 características). \n",
    "# Por lo que podemos concluir que todas tienen suficiente relevancia para el modelo y no podemos prescindir de ninguna de ellas"
   ]
  },
  {
   "cell_type": "code",
   "execution_count": null,
   "metadata": {},
   "outputs": [],
   "source": [
    "# Balanceado de clases:"
   ]
  },
  {
   "cell_type": "code",
   "execution_count": 28,
   "metadata": {},
   "outputs": [
    {
     "data": {
      "text/plain": [
       "Heart Attack Risk\n",
       "0    5624\n",
       "1    3139\n",
       "Name: count, dtype: int64"
      ]
     },
     "execution_count": 28,
     "metadata": {},
     "output_type": "execute_result"
    }
   ],
   "source": [
    "y.value_counts()"
   ]
  },
  {
   "cell_type": "code",
   "execution_count": 29,
   "metadata": {},
   "outputs": [
    {
     "data": {
      "text/plain": [
       "<Axes: xlabel='Heart Attack Risk', ylabel='count'>"
      ]
     },
     "execution_count": 29,
     "metadata": {},
     "output_type": "execute_result"
    },
    {
     "data": {
      "image/png": "[encoded data removed]",
      "text/plain": [
       "<Figure size 640x480 with 1 Axes>"
      ]
     },
     "metadata": {},
     "output_type": "display_data"
    }
   ],
   "source": [
    "sns.countplot(x=\"Heart Attack Risk\", data=df)"
   ]
  },
  {
   "cell_type": "code",
   "execution_count": null,
   "metadata": {},
   "outputs": [],
   "source": [
    "# Tenemos el doble de casos de ataque al corazón que de casos que no ha habido ataque, por lo que balanceo las clases con un oversampling para aumentar las muestras de la clase minoritaria"
   ]
  },
  {
   "cell_type": "code",
   "execution_count": 30,
   "metadata": {},
   "outputs": [],
   "source": [
    "smo = SMOTE(sampling_strategy=\"auto\", random_state = 42)\n",
    "X_new, y_new = smo.fit_resample(X_train, y_train)"
   ]
  },
  {
   "cell_type": "code",
   "execution_count": 31,
   "metadata": {},
   "outputs": [
    {
     "name": "stdout",
     "output_type": "stream",
     "text": [
      "X_new shape: (8998, 9)\n",
      "y_new shape: (8998,)\n"
     ]
    }
   ],
   "source": [
    "print(\"X_new shape:\", X_new.shape)\n",
    "print(\"y_new shape:\", y_new.shape)"
   ]
  },
  {
   "cell_type": "code",
   "execution_count": 32,
   "metadata": {},
   "outputs": [
    {
     "data": {
      "text/plain": [
       "Heart Attack Risk\n",
       "0    4499\n",
       "1    4499\n",
       "Name: count, dtype: int64"
      ]
     },
     "execution_count": 32,
     "metadata": {},
     "output_type": "execute_result"
    }
   ],
   "source": [
    "y_new.value_counts()"
   ]
  },
  {
   "cell_type": "code",
   "execution_count": null,
   "metadata": {},
   "outputs": [],
   "source": [
    "# Uso un GridSearch para encontrar los parámetros óptimos de este algoritmo"
   ]
  },
  {
   "cell_type": "code",
   "execution_count": null,
   "metadata": {},
   "outputs": [],
   "source": [
    "# Con el DecissionTreeClassifier"
   ]
  },
  {
   "cell_type": "code",
   "execution_count": 33,
   "metadata": {},
   "outputs": [
    {
     "data": {
      "text/plain": [
       "{'criterion': 'gini', 'max_depth': 3, 'min_samples_leaf': 2}"
      ]
     },
     "execution_count": 33,
     "metadata": {},
     "output_type": "execute_result"
    }
   ],
   "source": [
    "parameters_tree = {\n",
    "    \"criterion\" : [\"gini\", \"entropy\", \"log_loss\"],\n",
    "    \"max_depth\" : [None, 3, 5],\n",
    "    \"min_samples_leaf\" : [2, 3, 5]\n",
    "}\n",
    "\n",
    "tree = DecisionTreeClassifier()\n",
    "tree_clf = GridSearchCV(estimator = tree,\n",
    "                  param_grid = parameters_tree,\n",
    "                  n_jobs = -1,\n",
    "                  cv = 5)\n",
    "tree_clf.fit(X_new, y_new)\n",
    "tree_clf.best_params_"
   ]
  },
  {
   "cell_type": "code",
   "execution_count": 34,
   "metadata": {},
   "outputs": [
    {
     "data": {
      "text/plain": [
       "0.5139760410724472"
      ]
     },
     "execution_count": 34,
     "metadata": {},
     "output_type": "execute_result"
    }
   ],
   "source": [
    "tree_clf.score(X_test,y_test)"
   ]
  },
  {
   "cell_type": "code",
   "execution_count": 35,
   "metadata": {},
   "outputs": [
    {
     "data": {
      "text/plain": [
       "0.3896848137535817"
      ]
     },
     "execution_count": 35,
     "metadata": {},
     "output_type": "execute_result"
    }
   ],
   "source": [
    "y_pred_tree = tree_clf.predict(X_test)\n",
    "accuracy = accuracy_score(y_test, y_pred_tree)\n",
    "f1_tree = f1_score(y_test, y_pred_tree)\n",
    "f1_tree"
   ]
  },
  {
   "cell_type": "code",
   "execution_count": 36,
   "metadata": {},
   "outputs": [
    {
     "data": {
      "text/plain": [
       "0.43312101910828027"
      ]
     },
     "execution_count": 36,
     "metadata": {},
     "output_type": "execute_result"
    }
   ],
   "source": [
    "recall_score(y_test, y_pred_tree)"
   ]
  },
  {
   "cell_type": "code",
   "execution_count": 37,
   "metadata": {},
   "outputs": [
    {
     "data": {
      "text/plain": [
       "<Axes: >"
      ]
     },
     "execution_count": 37,
     "metadata": {},
     "output_type": "execute_result"
    },
    {
     "data": {
      "image/png": "[encoded data removed]",
      "text/plain": [
       "<Figure size 640x480 with 2 Axes>"
      ]
     },
     "metadata": {},
     "output_type": "display_data"
    }
   ],
   "source": [
    "cm = confusion_matrix(y_test, y_pred_tree)\n",
    "sns.heatmap(cm, annot=True, fmt = 'd')"
   ]
  },
  {
   "cell_type": "code",
   "execution_count": null,
   "metadata": {},
   "outputs": [],
   "source": [
    "# Con el RandomForestClassifier"
   ]
  },
  {
   "cell_type": "code",
   "execution_count": 38,
   "metadata": {},
   "outputs": [
    {
     "data": {
      "text/plain": [
       "{'max_depth': None,\n",
       " 'max_features': 1,\n",
       " 'min_samples_leaf': 2,\n",
       " 'n_estimators': 100}"
      ]
     },
     "execution_count": 38,
     "metadata": {},
     "output_type": "execute_result"
    }
   ],
   "source": [
    "parameters_rfc = {\n",
    "    \"n_estimators\" : [10, 100],\n",
    "    \"max_depth\" : [None, 3],\n",
    "    \"max_features\": [1,2,3],\n",
    "    \"min_samples_leaf\" : [2, 3]\n",
    "}\n",
    "\n",
    "rfc = RandomForestClassifier()\n",
    "rf_clf = GridSearchCV(estimator = rfc,\n",
    "                  param_grid = parameters_rfc,\n",
    "                  n_jobs = -1,\n",
    "                  cv = 5)\n",
    "rf_clf.fit(X_new, y_new)\n",
    "rf_clf.best_params_"
   ]
  },
  {
   "cell_type": "code",
   "execution_count": 41,
   "metadata": {},
   "outputs": [
    {
     "data": {
      "text/plain": [
       "0.5436394751853965"
      ]
     },
     "execution_count": 41,
     "metadata": {},
     "output_type": "execute_result"
    }
   ],
   "source": [
    "rf_clf.score(X_test,y_test)"
   ]
  },
  {
   "cell_type": "code",
   "execution_count": 42,
   "metadata": {},
   "outputs": [
    {
     "data": {
      "text/plain": [
       "0.33884297520661155"
      ]
     },
     "execution_count": 42,
     "metadata": {},
     "output_type": "execute_result"
    }
   ],
   "source": [
    "y_pred_rfc = rf_clf.predict(X_test)\n",
    "accuracy = accuracy_score(y_test, y_pred_rfc)\n",
    "f1_rfc = f1_score(y_test, y_pred_rfc)\n",
    "f1_rfc"
   ]
  },
  {
   "cell_type": "code",
   "execution_count": 43,
   "metadata": {},
   "outputs": [
    {
     "data": {
      "text/plain": [
       "0.32643312101910826"
      ]
     },
     "execution_count": 43,
     "metadata": {},
     "output_type": "execute_result"
    }
   ],
   "source": [
    "recall_score(y_test, y_pred_rfc)"
   ]
  },
  {
   "cell_type": "code",
   "execution_count": 44,
   "metadata": {},
   "outputs": [
    {
     "data": {
      "text/plain": [
       "<Axes: >"
      ]
     },
     "execution_count": 44,
     "metadata": {},
     "output_type": "execute_result"
    },
    {
     "data": {
      "image/png": "[encoded data removed]",
      "text/plain": [
       "<Figure size 640x480 with 2 Axes>"
      ]
     },
     "metadata": {},
     "output_type": "display_data"
    }
   ],
   "source": [
    "cm = confusion_matrix(y_test, y_pred_rfc)\n",
    "sns.heatmap(cm, annot=True, fmt = 'd')"
   ]
  },
  {
   "cell_type": "code",
   "execution_count": 45,
   "metadata": {},
   "outputs": [
    {
     "data": {
      "text/plain": [
       "{'max_depth': 7, 'n_estimators': 200}"
      ]
     },
     "execution_count": 45,
     "metadata": {},
     "output_type": "execute_result"
    }
   ],
   "source": [
    "parameters_xgb = {\n",
    "    \"n_estimators\": [50, 100, 200],\n",
    "    \"max_depth\": [3,5,7]\n",
    "}\n",
    "\n",
    "xgb = xgboost.XGBClassifier()\n",
    "xgb_clf = GridSearchCV(estimator = xgb,\n",
    "                  param_grid = parameters_xgb,\n",
    "                  n_jobs = -1,\n",
    "                  cv = 5)\n",
    "xgb_clf.fit(X_new, y_new)\n",
    "xgb_clf.best_params_"
   ]
  },
  {
   "cell_type": "code",
   "execution_count": 46,
   "metadata": {},
   "outputs": [
    {
     "data": {
      "text/plain": [
       "0.5521962350256703"
      ]
     },
     "execution_count": 46,
     "metadata": {},
     "output_type": "execute_result"
    }
   ],
   "source": [
    "xgb_clf.score(X_test,y_test)"
   ]
  },
  {
   "cell_type": "code",
   "execution_count": 47,
   "metadata": {},
   "outputs": [
    {
     "data": {
      "text/plain": [
       "0.33866891322662174"
      ]
     },
     "execution_count": 47,
     "metadata": {},
     "output_type": "execute_result"
    }
   ],
   "source": [
    "y_pred_xgb = xgb_clf.predict(X_test)\n",
    "accuracy = accuracy_score(y_test, y_pred_xgb)\n",
    "f1_xgb = f1_score(y_test, y_pred_xgb)\n",
    "f1_xgb"
   ]
  },
  {
   "cell_type": "code",
   "execution_count": 48,
   "metadata": {},
   "outputs": [
    {
     "data": {
      "text/plain": [
       "0.3200636942675159"
      ]
     },
     "execution_count": 48,
     "metadata": {},
     "output_type": "execute_result"
    }
   ],
   "source": [
    "recall_score(y_test, y_pred_xgb)"
   ]
  },
  {
   "cell_type": "code",
   "execution_count": 49,
   "metadata": {},
   "outputs": [
    {
     "data": {
      "text/plain": [
       "<Axes: >"
      ]
     },
     "execution_count": 49,
     "metadata": {},
     "output_type": "execute_result"
    },
    {
     "data": {
      "image/png": "[encoded data removed]",
      "text/plain": [
       "<Figure size 640x480 with 2 Axes>"
      ]
     },
     "metadata": {},
     "output_type": "display_data"
    }
   ],
   "source": [
    "cm = confusion_matrix(y_test, y_pred_xgb)\n",
    "sns.heatmap(cm, annot=True, fmt = 'd')"
   ]
  },
  {
   "cell_type": "code",
   "execution_count": 50,
   "metadata": {},
   "outputs": [
    {
     "name": "stderr",
     "output_type": "stream",
     "text": [
      "c:\\miniconda\\envs\\machine_learning\\lib\\site-packages\\sklearn\\model_selection\\_validation.py:425: FitFailedWarning: \n",
      "50 fits failed out of a total of 100.\n",
      "The score on these train-test partitions for these parameters will be set to nan.\n",
      "If these failures are not expected, you can try to debug them by setting error_score='raise'.\n",
      "\n",
      "Below are more details about the failures:\n",
      "--------------------------------------------------------------------------------\n",
      "50 fits failed with the following error:\n",
      "Traceback (most recent call last):\n",
      "  File \"c:\\miniconda\\envs\\machine_learning\\lib\\site-packages\\sklearn\\model_selection\\_validation.py\", line 729, in _fit_and_score\n",
      "    estimator.fit(X_train, y_train, **fit_params)\n",
      "  File \"c:\\miniconda\\envs\\machine_learning\\lib\\site-packages\\sklearn\\base.py\", line 1152, in wrapper\n",
      "    return fit_method(estimator, *args, **kwargs)\n",
      "  File \"c:\\miniconda\\envs\\machine_learning\\lib\\site-packages\\sklearn\\linear_model\\_logistic.py\", line 1169, in fit\n",
      "    solver = _check_solver(self.solver, self.penalty, self.dual)\n",
      "  File \"c:\\miniconda\\envs\\machine_learning\\lib\\site-packages\\sklearn\\linear_model\\_logistic.py\", line 56, in _check_solver\n",
      "    raise ValueError(\n",
      "ValueError: Solver lbfgs supports only 'l2' or 'none' penalties, got l1 penalty.\n",
      "\n",
      "  warnings.warn(some_fits_failed_message, FitFailedWarning)\n",
      "c:\\miniconda\\envs\\machine_learning\\lib\\site-packages\\sklearn\\model_selection\\_search.py:979: UserWarning: One or more of the test scores are non-finite: [       nan 0.56881138        nan 0.56247261        nan 0.56847786\n",
      "        nan 0.56881138        nan 0.56870002        nan 0.57170057\n",
      "        nan 0.56447539        nan 0.56825551        nan 0.56992298\n",
      "        nan 0.56847804]\n",
      "  warnings.warn(\n",
      "c:\\miniconda\\envs\\machine_learning\\lib\\site-packages\\sklearn\\linear_model\\_logistic.py:460: ConvergenceWarning: lbfgs failed to converge (status=1):\n",
      "STOP: TOTAL NO. of ITERATIONS REACHED LIMIT.\n",
      "\n",
      "Increase the number of iterations (max_iter) or scale the data as shown in:\n",
      "    https://scikit-learn.org/stable/modules/preprocessing.html\n",
      "Please also refer to the documentation for alternative solver options:\n",
      "    https://scikit-learn.org/stable/modules/linear_model.html#logistic-regression\n",
      "  n_iter_i = _check_optimize_result(\n"
     ]
    },
    {
     "data": {
      "text/plain": [
       "{'C': 166.81005372000593, 'penalty': 'l2'}"
      ]
     },
     "execution_count": 50,
     "metadata": {},
     "output_type": "execute_result"
    }
   ],
   "source": [
    "parameters_lr = {\n",
    "    \"penalty\": ['l1', 'l2'],\n",
    "    \"C\": np.logspace(0, 4, 10)\n",
    "}\n",
    "\n",
    "lr = LogisticRegression()\n",
    "reg_log = GridSearchCV(estimator = lr,\n",
    "                  param_grid = parameters_lr,\n",
    "                  n_jobs = -1,\n",
    "                  cv = 5)\n",
    "reg_log.fit(X_new, y_new)\n",
    "reg_log.best_params_"
   ]
  },
  {
   "cell_type": "code",
   "execution_count": 51,
   "metadata": {},
   "outputs": [
    {
     "data": {
      "text/plain": [
       "0.5025670279520822"
      ]
     },
     "execution_count": 51,
     "metadata": {},
     "output_type": "execute_result"
    }
   ],
   "source": [
    "reg_log.score(X_test,y_test)"
   ]
  },
  {
   "cell_type": "code",
   "execution_count": 52,
   "metadata": {},
   "outputs": [
    {
     "data": {
      "text/plain": [
       "0.38418079096045193"
      ]
     },
     "execution_count": 52,
     "metadata": {},
     "output_type": "execute_result"
    }
   ],
   "source": [
    "y_pred_lr = reg_log.predict(X_test)\n",
    "accuracy = accuracy_score(y_test, y_pred_lr)\n",
    "f1_lr = f1_score(y_test, y_pred_lr)\n",
    "f1_lr"
   ]
  },
  {
   "cell_type": "code",
   "execution_count": 53,
   "metadata": {},
   "outputs": [
    {
     "data": {
      "text/plain": [
       "0.43312101910828027"
      ]
     },
     "execution_count": 53,
     "metadata": {},
     "output_type": "execute_result"
    }
   ],
   "source": [
    "recall_score(y_test, y_pred_lr)"
   ]
  },
  {
   "cell_type": "code",
   "execution_count": 54,
   "metadata": {},
   "outputs": [
    {
     "data": {
      "text/plain": [
       "<Axes: >"
      ]
     },
     "execution_count": 54,
     "metadata": {},
     "output_type": "execute_result"
    },
    {
     "data": {
      "image/png": "[encoded data removed]",
      "text/plain": [
       "<Figure size 640x480 with 2 Axes>"
      ]
     },
     "metadata": {},
     "output_type": "display_data"
    }
   ],
   "source": [
    "cm = confusion_matrix(y_test, y_pred_lr)\n",
    "sns.heatmap(cm, annot=True, fmt = 'd')"
   ]
  },
  {
   "cell_type": "code",
   "execution_count": 55,
   "metadata": {},
   "outputs": [
    {
     "data": {
      "text/plain": [
       "{'selectkbest__k': 4, 'svm__C': 100, 'svm__degree': 2, 'svm__gamma': 'scale'}"
      ]
     },
     "execution_count": 55,
     "metadata": {},
     "output_type": "execute_result"
    }
   ],
   "source": [
    "svm = Pipeline(steps=[\n",
    "    (\"scaler\", StandardScaler()),\n",
    "    (\"selectkbest\", SelectKBest()),\n",
    "    (\"svm\", SVC())\n",
    "])\n",
    "\n",
    "parameters_svm = {\n",
    "    'selectkbest__k': [2, 4],\n",
    "    'svm__C': [0.1, 10, 100],\n",
    "    'svm__degree': [2, 4],\n",
    "    'svm__gamma': ['scale', 'auto']\n",
    "}\n",
    "\n",
    "gs_svm = GridSearchCV(svm,\n",
    "                         parameters_svm,\n",
    "                         cv = 10,\n",
    "                         scoring = 'accuracy',\n",
    "                         verbose = 0,\n",
    "                         n_jobs = -1)\n",
    "\n",
    "gs_svm.fit(X_new, y_new)\n",
    "gs_svm.best_params_"
   ]
  },
  {
   "cell_type": "code",
   "execution_count": 56,
   "metadata": {},
   "outputs": [
    {
     "data": {
      "text/plain": [
       "0.5367940673131774"
      ]
     },
     "execution_count": 56,
     "metadata": {},
     "output_type": "execute_result"
    }
   ],
   "source": [
    "gs_svm.score(X_test,y_test)"
   ]
  },
  {
   "cell_type": "code",
   "execution_count": 57,
   "metadata": {},
   "outputs": [
    {
     "data": {
      "text/plain": [
       "0.34090909090909094"
      ]
     },
     "execution_count": 57,
     "metadata": {},
     "output_type": "execute_result"
    }
   ],
   "source": [
    "y_pred_svm = gs_svm.predict(X_test)\n",
    "accuracy = accuracy_score(y_test, y_pred_svm)\n",
    "f1_svm = f1_score(y_test, y_pred_svm)\n",
    "f1_svm"
   ]
  },
  {
   "cell_type": "code",
   "execution_count": 58,
   "metadata": {},
   "outputs": [
    {
     "data": {
      "text/plain": [
       "0.3343949044585987"
      ]
     },
     "execution_count": 58,
     "metadata": {},
     "output_type": "execute_result"
    }
   ],
   "source": [
    "recall_score(y_test, y_pred_svm)"
   ]
  },
  {
   "cell_type": "code",
   "execution_count": 59,
   "metadata": {},
   "outputs": [
    {
     "data": {
      "text/plain": [
       "<Axes: >"
      ]
     },
     "execution_count": 59,
     "metadata": {},
     "output_type": "execute_result"
    },
    {
     "data": {
      "image/png": "[encoded data removed]",
      "text/plain": [
       "<Figure size 640x480 with 2 Axes>"
      ]
     },
     "metadata": {},
     "output_type": "display_data"
    }
   ],
   "source": [
    "cm = confusion_matrix(y_test, y_pred_svm)\n",
    "sns.heatmap(cm, annot=True, fmt = 'd')"
   ]
  },
  {
   "cell_type": "code",
   "execution_count": 60,
   "metadata": {},
   "outputs": [
    {
     "data": {
      "text/plain": [
       "{'leaf_size': 1, 'n_neighbors': 1, 'weights': 'uniform'}"
      ]
     },
     "execution_count": 60,
     "metadata": {},
     "output_type": "execute_result"
    }
   ],
   "source": [
    "parameters_knn = {\n",
    "    \"n_neighbors\": [1, 3, 5, 7],\n",
    "    \"weights\" : ['uniform', 'distance'],\n",
    "    \"leaf_size\" : [1, 15, 30, 45]\n",
    "}\n",
    "\n",
    "knn = KNeighborsClassifier()\n",
    "knn_clf = GridSearchCV(estimator = knn,\n",
    "                  param_grid = parameters_knn,\n",
    "                  n_jobs = -1,\n",
    "                  cv = 5)\n",
    "knn_clf.fit(X_new, y_new)\n",
    "knn_clf.best_params_"
   ]
  },
  {
   "cell_type": "code",
   "execution_count": 61,
   "metadata": {},
   "outputs": [
    {
     "data": {
      "text/plain": [
       "0.5373645179691957"
      ]
     },
     "execution_count": 61,
     "metadata": {},
     "output_type": "execute_result"
    }
   ],
   "source": [
    "knn_clf.score(X_test,y_test)"
   ]
  },
  {
   "cell_type": "code",
   "execution_count": 62,
   "metadata": {},
   "outputs": [
    {
     "data": {
      "text/plain": [
       "0.37949502677888297"
      ]
     },
     "execution_count": 62,
     "metadata": {},
     "output_type": "execute_result"
    }
   ],
   "source": [
    "y_pred_knn = knn_clf.predict(X_test)\n",
    "accuracy = accuracy_score(y_test, y_pred_knn)\n",
    "f1_knn = f1_score(y_test, y_pred_knn)\n",
    "f1_knn"
   ]
  },
  {
   "cell_type": "code",
   "execution_count": 63,
   "metadata": {},
   "outputs": [
    {
     "data": {
      "text/plain": [
       "0.39490445859872614"
      ]
     },
     "execution_count": 63,
     "metadata": {},
     "output_type": "execute_result"
    }
   ],
   "source": [
    "recall_score(y_test, y_pred_knn)"
   ]
  },
  {
   "cell_type": "code",
   "execution_count": 64,
   "metadata": {},
   "outputs": [
    {
     "data": {
      "text/plain": [
       "<Axes: >"
      ]
     },
     "execution_count": 64,
     "metadata": {},
     "output_type": "execute_result"
    },
    {
     "data": {
      "image/png": "[encoded data removed]",
      "text/plain": [
       "<Figure size 640x480 with 2 Axes>"
      ]
     },
     "metadata": {},
     "output_type": "display_data"
    }
   ],
   "source": [
    "cm = confusion_matrix(y_test, y_pred_knn)\n",
    "sns.heatmap(cm, annot=True, fmt = 'd')"
   ]
  },
  {
   "cell_type": "code",
   "execution_count": 65,
   "metadata": {},
   "outputs": [],
   "source": [
    "def dict_vals(dict):\n",
    "    x = list(dict.values())\n",
    "    x = np.array([x])\n",
    "    return x"
   ]
  },
  {
   "cell_type": "code",
   "execution_count": 82,
   "metadata": {},
   "outputs": [],
   "source": [
    "def hacer_prediccion(predict_type, diccionario):\n",
    "    lifestyle_changes = []\n",
    "    if predict_type > 0:\n",
    "        if 'Cholesterol' in diccionario and diccionario['Cholesterol'] == 1:\n",
    "            lifestyle_changes.append('tienes que dejar de fumar')\n",
    "        if 'BMI' in diccionario and diccionario['BMI'] < 18.5:\n",
    "            lifestyle_changes.append('tienes que ganar peso')\n",
    "        elif 'BMI' in diccionario and diccionario['BMI'] > 25:\n",
    "            lifestyle_changes.append('tienes que perder peso')\n",
    "        if 'Exercise Hours Per Week' in diccionario and diccionario['Exercise Hours Per Week'] < 1.25:\n",
    "            lifestyle_changes.append('tienes que hacer más ejercicio')\n",
    "        if 'systolic' in diccionario and diccionario['systolic'] > 120:\n",
    "            lifestyle_changes.append('tienes que controlar tu presión arterial')\n",
    "        if 'Stresss Level' in diccionario and diccionario['Stresss Level'] > 5:\n",
    "            lifestyle_changes.append('tienes que aprender a relajarte')\n",
    "        if 'Obesity' in diccionario and diccionario['Obesity'] == 1:\n",
    "            lifestyle_changes.append('tienes que comer mejor')  \n",
    "        if 'Sleep Hours Per Day' in diccionario and diccionario['Sleep Hours Per Day'] < 7:\n",
    "            lifestyle_changes.append('tienes que dormir más')  \n",
    "        if 'Triglycerides' in diccionario and diccionario['Triglycerides'] > 150:\n",
    "            lifestyle_changes.append('tienes que controlar tus trigliceridos')  \n",
    "        if 'Diabetes' in diccionario and diccionario['Diabetes'] == 1:\n",
    "            lifestyle_changes.append('tienes que controlar tu diabetes')  \n",
    "        print(\"Heart attack risk:\", predict_type)\n",
    "        for i in lifestyle_changes:\n",
    "            print(f\"Por favor, {i},\")\n",
    "        print(\"Esto puede reducir tu riesgo de ataque al corazón.\")\n",
    "        \n",
    "    if predict_type > 0.75:\n",
    "        print(\"Deberías consultar con tu médico.\")\n",
    "        print(\"Riesgo de ataque al corazón:\", predict_type)"
   ]
  },
  {
   "cell_type": "code",
   "execution_count": 83,
   "metadata": {},
   "outputs": [],
   "source": [
    "nuevo_paciente = {'Cholesterol': 423, 'systolic': 126,\n",
    "       'Diabetes': 1, 'Obesity': 0, 'Exercise Hours Per Week': 5.07,\n",
    "        'BMI': 42.17, 'Triglycerides': 587, \"Stresss Level\": 8, 'Sleep Hours Per Day' : 6}\n",
    "dict1 = pd.DataFrame([nuevo_paciente])\n",
    "x = dict_vals(nuevo_paciente)"
   ]
  },
  {
   "cell_type": "code",
   "execution_count": 84,
   "metadata": {},
   "outputs": [
    {
     "name": "stdout",
     "output_type": "stream",
     "text": [
      "Heart attack risk: [4.42684297e-20]\n",
      "Por favor, tienes que perder peso,\n",
      "Por favor, tienes que controlar tu presión arterial,\n",
      "Por favor, tienes que aprender a relajarte,\n",
      "Por favor, tienes que dormir más,\n",
      "Por favor, tienes que controlar tus trigliceridos,\n",
      "Por favor, tienes que controlar tu diabetes,\n",
      "Esto puede reducir tu riesgo de ataque al corazón.\n"
     ]
    },
    {
     "name": "stderr",
     "output_type": "stream",
     "text": [
      "c:\\miniconda\\envs\\machine_learning\\lib\\site-packages\\sklearn\\base.py:465: UserWarning: X does not have valid feature names, but LogisticRegression was fitted with feature names\n",
      "  warnings.warn(\n"
     ]
    }
   ],
   "source": [
    "predict_type = reg_log.predict_proba(x)[:, 1]\n",
    "resultado = hacer_prediccion(predict_type, nuevo_paciente)\n",
    "resultado"
   ]
  },
  {
   "cell_type": "code",
   "execution_count": 85,
   "metadata": {},
   "outputs": [],
   "source": [
    "modelo_entrenado = reg_log"
   ]
  },
  {
   "cell_type": "code",
   "execution_count": 86,
   "metadata": {},
   "outputs": [],
   "source": [
    "with open('modelo_entrenado.pkl', 'wb') as archivo_modelo:\n",
    "    pickle.dump(modelo_entrenado, archivo_modelo)"
   ]
  }
 ],
 "metadata": {
  "kernelspec": {
   "display_name": "machine_learning",
   "language": "python",
   "name": "python3"
  },
  "language_info": {
   "codemirror_mode": {
    "name": "ipython",
    "version": 3
   },
   "file_extension": ".py",
   "mimetype": "text/x-python",
   "name": "python",
   "nbconvert_exporter": "python",
   "pygments_lexer": "ipython3",
   "version": "3.9.18"
  }
 },
 "nbformat": 4,
 "nbformat_minor": 2
}
